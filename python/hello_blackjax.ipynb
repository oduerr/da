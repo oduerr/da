{
 "cells": [
  {
   "cell_type": "markdown",
   "metadata": {},
   "source": [
    "# A first hello world to Blackjax\n",
    "\n",
    "Much of the code is adapted from https://blackjax-devs.github.io/blackjax/examples/quickstart.html"
   ]
  },
  {
   "cell_type": "code",
   "execution_count": 1,
   "metadata": {},
   "outputs": [],
   "source": [
    "import jax\n",
    "import jax.numpy as jnp\n",
    "import jax.scipy.stats as stats\n",
    "import numpy as np\n",
    "import blackjax"
   ]
  },
  {
   "cell_type": "markdown",
   "metadata": {},
   "source": [
    "### Linear Regression"
   ]
  },
  {
   "cell_type": "code",
   "execution_count": 2,
   "metadata": {},
   "outputs": [
    {
     "data": {
      "text/plain": [
       "(Array([-2., -1.,  0.,  1.,  2.], dtype=float32),\n",
       " Array([-2.8121562, -2.2833426,  0.7289083,  4.2490597,  5.24447  ],      dtype=float32))"
      ]
     },
     "execution_count": 2,
     "metadata": {},
     "output_type": "execute_result"
    }
   ],
   "source": [
    "import jax.numpy as jnp\n",
    "import jax.random as jrandom\n",
    "\n",
    "N = 5\n",
    "key = jrandom.PRNGKey(0)\n",
    "x = jnp.linspace(-2, 2, num=N)\n",
    "means = 2 * x + 1  # Calculate means based on your linear model\n",
    "y = means + jrandom.normal(key, shape=(N,))  # Generate standard normal data and shift by the means\n",
    "x,y"
   ]
  },
  {
   "cell_type": "markdown",
   "metadata": {},
   "source": [
    "#### Log Density, defineing the model"
   ]
  },
  {
   "cell_type": "code",
   "execution_count": 4,
   "metadata": {},
   "outputs": [
    {
     "data": {
      "text/plain": [
       "Array(-29.129982, dtype=float32)"
      ]
     },
     "execution_count": 4,
     "metadata": {},
     "output_type": "execute_result"
    }
   ],
   "source": [
    "\n",
    "from jax.scipy.stats import norm, uniform\n",
    "\n",
    "def logdensity_fn(theta):\n",
    "    \"\"\"\n",
    "    Log density function for a linear regression model with uniform priors.\n",
    "    \n",
    "    Args:\n",
    "    theta (array): An array of parameters [a, b, sigma].\n",
    "    \n",
    "    Returns:\n",
    "    float: The log probability density of the model given the data.\n",
    "    \"\"\"\n",
    "    # Extract parameters\n",
    "    a, b, sigma = theta['theta']\n",
    "    \n",
    "    # Prior distributions for a, b, and sigma\n",
    "    log_prior_a = uniform.logpdf(a, -100, 200) # uniform prior on a between -100,100\n",
    "    log_prior_b = uniform.logpdf(b, -100, 200)\n",
    "    log_prior_sigma = uniform.logpdf(sigma, 0.1, 100)\n",
    "    #print(log_prior_a, jnp.exp(log_prior_b), log_prior_sigma)\n",
    "    \n",
    "    # The likelihood of the data given the model\n",
    "    log_likelihood = jnp.sum(norm.logpdf(y, a * x + b, sigma))\n",
    "    \n",
    "    # Sum of log prior probabilities and the log likelihood\n",
    "    log_posterior = log_prior_a + log_prior_b + log_prior_sigma + log_likelihood\n",
    "    return log_posterior\n",
    "\n",
    "initial_position = {\"theta\": jnp.array([1., 1., 1.])}\n",
    "logdensity_fn(initial_position)"
   ]
  },
  {
   "cell_type": "markdown",
   "metadata": {},
   "source": [
    "## Simple HMC Sampling"
   ]
  },
  {
   "cell_type": "markdown",
   "metadata": {},
   "source": [
    "### Defining the sampler"
   ]
  },
  {
   "cell_type": "markdown",
   "metadata": {},
   "source": [
    "Let's define a HMC sampler. We set the paramters of the sampler fixed. Note that in implementations like NUTS the step size and the number of steps are adapted during the warmup phase."
   ]
  },
  {
   "cell_type": "code",
   "execution_count": 5,
   "metadata": {},
   "outputs": [],
   "source": [
    "# HMC Sampler setup\n",
    "step_size = 1e-3\n",
    "num_integration_steps = 30\n",
    "inverse_mass_matrix = np.ones(3)\n",
    "\n",
    "# Define the HMC transition kernel\n",
    "hmc = blackjax.hmc(logdensity_fn, step_size, inverse_mass_matrix,num_integration_steps)"
   ]
  },
  {
   "cell_type": "markdown",
   "metadata": {},
   "source": [
    "When we start sampling more then just the initial position is required, also gradients need to be provied. "
   ]
  },
  {
   "cell_type": "code",
   "execution_count": 6,
   "metadata": {},
   "outputs": [
    {
     "data": {
      "text/plain": [
       "HMCState(position={'theta': Array([1., 1., 1.], dtype=float32)}, logdensity=Array(-29.129982, dtype=float32), logdensity_grad={'theta': Array([12.645655 ,  0.1269393, 13.666969 ], dtype=float32)})"
      ]
     },
     "execution_count": 6,
     "metadata": {},
     "output_type": "execute_result"
    }
   ],
   "source": [
    "# Initialize the sampler's state\n",
    "initial_state = hmc.init(initial_position)\n",
    "initial_state"
   ]
  },
  {
   "cell_type": "code",
   "execution_count": 7,
   "metadata": {},
   "outputs": [],
   "source": [
    "hmc_kernel = jax.jit(hmc.step)\n",
    "\n",
    "def inference_loop(rng_key, kernel, initial_state, num_samples):\n",
    "    @jax.jit\n",
    "    def one_step(state, rng_key):\n",
    "        state, _ = kernel(rng_key, state)\n",
    "        return state, state\n",
    "\n",
    "    keys = jax.random.split(rng_key, num_samples)\n",
    "    _, states = jax.lax.scan(one_step, initial_state, keys)\n",
    "\n",
    "    return states"
   ]
  },
  {
   "cell_type": "code",
   "execution_count": 8,
   "metadata": {},
   "outputs": [
    {
     "name": "stdout",
     "output_type": "stream",
     "text": [
      "CPU times: user 297 ms, sys: 10.4 ms, total: 308 ms\n",
      "Wall time: 298 ms\n"
     ]
    }
   ],
   "source": [
    "%%time\n",
    "rng_key, sample_key = jax.random.split(key)\n",
    "states = inference_loop(sample_key, hmc_kernel, initial_state, 10_000)\n",
    "mcmc_samples = states.position\n",
    "states.logdensity\n",
    "samples_hmc = mcmc_samples['theta']"
   ]
  },
  {
   "cell_type": "markdown",
   "metadata": {},
   "source": [
    "### Nuts\n",
    "NUTS is a dynamic algorithm: the number of integration steps is determined at runtime. We still need to specify a step size and a mass matrix:"
   ]
  },
  {
   "cell_type": "code",
   "execution_count": 9,
   "metadata": {},
   "outputs": [
    {
     "data": {
      "text/plain": [
       "HMCState(position={'theta': Array([1., 1., 1.], dtype=float32)}, logdensity=Array(-29.129982, dtype=float32), logdensity_grad={'theta': Array([12.645655 ,  0.1269393, 13.666969 ], dtype=float32)})"
      ]
     },
     "execution_count": 9,
     "metadata": {},
     "output_type": "execute_result"
    }
   ],
   "source": [
    "inverse_mass_matrix = np.ones(3)\n",
    "step_size = 1e-3\n",
    "logdensity = lambda x: logdensity_fn(**x)\n",
    "\n",
    "nuts = blackjax.nuts(logdensity_fn, step_size, inverse_mass_matrix)\n",
    "initial_state = nuts.init(initial_position)\n",
    "initial_state"
   ]
  },
  {
   "cell_type": "code",
   "execution_count": 10,
   "metadata": {},
   "outputs": [
    {
     "name": "stdout",
     "output_type": "stream",
     "text": [
      "CPU times: user 1.29 s, sys: 21.2 ms, total: 1.31 s\n",
      "Wall time: 1.31 s\n"
     ]
    }
   ],
   "source": [
    "%%time\n",
    "rng_key, sample_key = jax.random.split(rng_key)\n",
    "states = inference_loop(sample_key, nuts.step, initial_state, 4_000)\n",
    "\n",
    "mcmc_samples_nuts = states.position['theta']"
   ]
  },
  {
   "cell_type": "code",
   "execution_count": 11,
   "metadata": {},
   "outputs": [
    {
     "data": {
      "text/plain": [
       "Array([[1.6047952, 1.2184306, 1.1687907],\n",
       "       [1.4719025, 1.0496095, 1.076352 ],\n",
       "       [1.7663878, 1.3847343, 2.202001 ],\n",
       "       ...,\n",
       "       [2.4790242, 2.3529603, 2.3751423],\n",
       "       [1.8713554, 1.1997161, 2.6132941],\n",
       "       [1.9043583, 1.052612 , 2.5907454]], dtype=float32)"
      ]
     },
     "execution_count": 11,
     "metadata": {},
     "output_type": "execute_result"
    }
   ],
   "source": [
    "mcmc_samples_nuts"
   ]
  },
  {
   "cell_type": "markdown",
   "metadata": {},
   "source": [
    "### Finding the sampling parameters using Stan\n",
    "\n",
    "Specifying the step size and inverse mass matrix is cumbersome. We can use Stan’s adaptation to get reasonable values for them so we have, in practice, no parameter to specify."
   ]
  },
  {
   "cell_type": "code",
   "execution_count": 12,
   "metadata": {},
   "outputs": [
    {
     "name": "stdout",
     "output_type": "stream",
     "text": [
      "CPU times: user 894 ms, sys: 22.7 ms, total: 917 ms\n",
      "Wall time: 905 ms\n"
     ]
    },
    {
     "data": {
      "text/plain": [
       "{'step_size': Array(0.11528712, dtype=float32, weak_type=True),\n",
       " 'inverse_mass_matrix': Array([ 3.7676225,  6.031507 , 15.147866 ], dtype=float32)}"
      ]
     },
     "execution_count": 12,
     "metadata": {},
     "output_type": "execute_result"
    }
   ],
   "source": [
    "%%time\n",
    "\n",
    "warmup = blackjax.window_adaptation(blackjax.nuts, logdensity_fn)\n",
    "rng_key, warmup_key, sample_key = jax.random.split(rng_key, 3)\n",
    "(state, parameters), _ = warmup.run(warmup_key, initial_position, num_steps=1000)\n",
    "parameters"
   ]
  },
  {
   "cell_type": "code",
   "execution_count": 13,
   "metadata": {},
   "outputs": [
    {
     "name": "stdout",
     "output_type": "stream",
     "text": [
      "CPU times: user 537 ms, sys: 13.9 ms, total: 551 ms\n",
      "Wall time: 541 ms\n"
     ]
    }
   ],
   "source": [
    "%%time\n",
    "\n",
    "kernel = blackjax.nuts(logdensity_fn, **parameters).step\n",
    "states = inference_loop(sample_key, kernel, state, 4000)\n",
    "\n",
    "mcmc_samples = states.position\n",
    "nuts_stan_init = states.position['theta']"
   ]
  },
  {
   "cell_type": "code",
   "execution_count": 18,
   "metadata": {},
   "outputs": [
    {
     "data": {
      "text/plain": [
       "<matplotlib.legend.Legend at 0x2a3090970>"
      ]
     },
     "execution_count": 18,
     "metadata": {},
     "output_type": "execute_result"
    },
    {
     "data": {
      "image/png": "[encoded data removed]",
      "text/plain": [
       "<Figure size 640x480 with 1 Axes>"
      ]
     },
     "metadata": {},
     "output_type": "display_data"
    }
   ],
   "source": [
    "from matplotlib import pyplot as plt\n",
    "plt.plot(mcmc_samples_nuts[:,0], alpha=0.5, label='NUTS')\n",
    "plt.plot(samples_hmc[:,0], label='HMC',alpha=0.5)\n",
    "plt.plot(nuts_stan_init[:,0], label='NUTS Stan')\n",
    "plt.xlabel('Iteration')\n",
    "plt.ylabel('a')\n",
    "plt.title('Traceplot of a for the different samplers in BlackJAX')\n",
    "plt.legend()"
   ]
  },
  {
   "cell_type": "markdown",
   "metadata": {},
   "source": [
    "#### Calculation of the effective sample sizes with arviz\n",
    "\n",
    "Unfortunatly the arviz does take the output of the blackjax sampler. We need to convert the output to a format that arviz can handle. "
   ]
  },
  {
   "cell_type": "code",
   "execution_count": 15,
   "metadata": {},
   "outputs": [],
   "source": [
    "import numpy as np\n",
    "import arviz as az\n",
    "\n",
    "def convert_samples_to_dataset(samples):\n",
    "    \"\"\"\n",
    "    Convert samples to an ArviZ InferenceData object.\n",
    "    The samples must be in a 3D array with dimensions (chains, draws, parameters).\n",
    "    \"\"\"\n",
    "    # Ensure the samples are in a 3D array\n",
    "    if samples.ndim == 2:\n",
    "        samples = samples[np.newaxis, :]\n",
    "\n",
    "    # Convert the samples to an array and then to an ArviZ InferenceData object\n",
    "    samples = np.array(samples)\n",
    "    d_az = az.convert_to_dataset(samples)\n",
    "\n",
    "    return d_az"
   ]
  },
  {
   "cell_type": "code",
   "execution_count": 25,
   "metadata": {},
   "outputs": [
    {
     "data": {
      "text/plain": [
       "'ESS'"
      ]
     },
     "metadata": {},
     "output_type": "display_data"
    },
    {
     "data": {
      "text/html": [
       "<div>\n",
       "<style scoped>\n",
       "    .dataframe tbody tr th:only-of-type {\n",
       "        vertical-align: middle;\n",
       "    }\n",
       "\n",
       "    .dataframe tbody tr th {\n",
       "        vertical-align: top;\n",
       "    }\n",
       "\n",
       "    .dataframe thead th {\n",
       "        text-align: right;\n",
       "    }\n",
       "</style>\n",
       "<table border=\"1\" class=\"dataframe\">\n",
       "  <thead>\n",
       "    <tr style=\"text-align: right;\">\n",
       "      <th></th>\n",
       "      <th>HMC</th>\n",
       "      <th>NUTS</th>\n",
       "      <th>NUTS Stan</th>\n",
       "    </tr>\n",
       "    <tr>\n",
       "      <th>Parameter</th>\n",
       "      <th></th>\n",
       "      <th></th>\n",
       "      <th></th>\n",
       "    </tr>\n",
       "  </thead>\n",
       "  <tbody>\n",
       "    <tr>\n",
       "      <th>0</th>\n",
       "      <td>23.799352</td>\n",
       "      <td>437.667818</td>\n",
       "      <td>1055.835015</td>\n",
       "    </tr>\n",
       "    <tr>\n",
       "      <th>1</th>\n",
       "      <td>1.999782</td>\n",
       "      <td>255.731863</td>\n",
       "      <td>1038.450908</td>\n",
       "    </tr>\n",
       "    <tr>\n",
       "      <th>2</th>\n",
       "      <td>7.176306</td>\n",
       "      <td>97.845109</td>\n",
       "      <td>468.484686</td>\n",
       "    </tr>\n",
       "  </tbody>\n",
       "</table>\n",
       "</div>"
      ],
      "text/plain": [
       "                 HMC        NUTS    NUTS Stan\n",
       "Parameter                                    \n",
       "0          23.799352  437.667818  1055.835015\n",
       "1           1.999782  255.731863  1038.450908\n",
       "2           7.176306   97.845109   468.484686"
      ]
     },
     "metadata": {},
     "output_type": "display_data"
    }
   ],
   "source": [
    "import numpy as np\n",
    "import pandas as pd\n",
    "import arviz as az\n",
    "\n",
    "def calculate_ess(samples, sampler_name):\n",
    "    ess_result = az.ess(convert_samples_to_dataset(samples))\n",
    "     # Properly extract the numerical ESS values from the result\n",
    "    ess_values = ess_result.to_dataframe().squeeze().values\n",
    "    ess_series = pd.Series(ess_values, name=sampler_name)\n",
    "    return ess_series\n",
    "\n",
    "# Calculating ESS for each sampler\n",
    "ess_hmc = calculate_ess(samples_hmc, 'HMC')\n",
    "ess_nuts = calculate_ess(mcmc_samples_nuts, 'NUTS')\n",
    "ess_nuts_stan = calculate_ess(nuts_stan_init, 'NUTS Stan')\n",
    "\n",
    "# Combine the results into a single DataFrame\n",
    "ess_df = pd.DataFrame({'HMC': ess_hmc, 'NUTS': ess_nuts, 'NUTS Stan': ess_nuts_stan})\n",
    "ess_df.index.name = 'Parameter'\n",
    "display('ESS', ess_df)\n"
   ]
  },
  {
   "cell_type": "code",
   "execution_count": null,
   "metadata": {},
   "outputs": [],
   "source": []
  }
 ],
 "metadata": {
  "kernelspec": {
   "display_name": "mldl_htwg",
   "language": "python",
   "name": "python3"
  },
  "language_info": {
   "codemirror_mode": {
    "name": "ipython",
    "version": 3
   },
   "file_extension": ".py",
   "mimetype": "text/x-python",
   "name": "python",
   "nbconvert_exporter": "python",
   "pygments_lexer": "ipython3",
   "version": "3.10.13"
  }
 },
 "nbformat": 4,
 "nbformat_minor": 2
}
