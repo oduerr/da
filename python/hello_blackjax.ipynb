{
 "cells": [
  {
   "cell_type": "markdown",
   "metadata": {},
   "source": [
    "# A first hello world to Blackjax\n",
    "\n",
    "Much of the code is adapted from https://blackjax-devs.github.io/blackjax/examples/quickstart.html"
   ]
  },
  {
   "cell_type": "code",
   "execution_count": 8,
   "metadata": {},
   "outputs": [
    {
     "name": "stdout",
     "output_type": "stream",
     "text": [
      "Using cached sbp.csv\n"
     ]
    },
    {
     "data": {
      "text/html": [
       "<div>\n",
       "<style scoped>\n",
       "    .dataframe tbody tr th:only-of-type {\n",
       "        vertical-align: middle;\n",
       "    }\n",
       "\n",
       "    .dataframe tbody tr th {\n",
       "        vertical-align: top;\n",
       "    }\n",
       "\n",
       "    .dataframe thead th {\n",
       "        text-align: right;\n",
       "    }\n",
       "</style>\n",
       "<table border=\"1\" class=\"dataframe\">\n",
       "  <thead>\n",
       "    <tr style=\"text-align: right;\">\n",
       "      <th></th>\n",
       "      <th>x</th>\n",
       "      <th>y</th>\n",
       "    </tr>\n",
       "  </thead>\n",
       "  <tbody>\n",
       "    <tr>\n",
       "      <th>0</th>\n",
       "      <td>22</td>\n",
       "      <td>131</td>\n",
       "    </tr>\n",
       "    <tr>\n",
       "      <th>1</th>\n",
       "      <td>41</td>\n",
       "      <td>139</td>\n",
       "    </tr>\n",
       "    <tr>\n",
       "      <th>2</th>\n",
       "      <td>52</td>\n",
       "      <td>128</td>\n",
       "    </tr>\n",
       "    <tr>\n",
       "      <th>3</th>\n",
       "      <td>23</td>\n",
       "      <td>128</td>\n",
       "    </tr>\n",
       "    <tr>\n",
       "      <th>4</th>\n",
       "      <td>41</td>\n",
       "      <td>171</td>\n",
       "    </tr>\n",
       "  </tbody>\n",
       "</table>\n",
       "</div>"
      ],
      "text/plain": [
       "    x    y\n",
       "0  22  131\n",
       "1  41  139\n",
       "2  52  128\n",
       "3  23  128\n",
       "4  41  171"
      ]
     },
     "execution_count": 8,
     "metadata": {},
     "output_type": "execute_result"
    }
   ],
   "source": [
    "#!pip install edudat\n",
    "import edudat\n",
    "from edudat import load_data\n",
    "df = load_data('sbp.csv', verbose=True)\n",
    "df.head()"
   ]
  },
  {
   "cell_type": "code",
   "execution_count": 9,
   "metadata": {},
   "outputs": [],
   "source": [
    "import jax\n",
    "import jax.numpy as jnp\n",
    "import jax.scipy.stats as stats\n",
    "import numpy as np\n",
    "import blackjax"
   ]
  },
  {
   "cell_type": "markdown",
   "metadata": {},
   "source": []
  },
  {
   "cell_type": "markdown",
   "metadata": {},
   "source": [
    "### Linear Regression"
   ]
  },
  {
   "cell_type": "code",
   "execution_count": 22,
   "metadata": {},
   "outputs": [],
   "source": [
    "import jax.random as jrandom\n",
    "key = jrandom.PRNGKey(0)\n",
    "if False:\n",
    "    import jax.numpy as jnp\n",
    "\n",
    "    N = 5\n",
    "    x = jnp.linspace(-2, 2, num=N)\n",
    "    means = 2 * x + 1  # Calculate means based on your linear model\n",
    "    y = means + jrandom.normal(key, shape=(N,))  # Generate standard normal data and shift by the means\n",
    "    x,y\n",
    "else:\n",
    "    x = df['x'].values\n",
    "    y = df['y'].values\n",
    "    N = len(x)"
   ]
  },
  {
   "cell_type": "markdown",
   "metadata": {},
   "source": [
    "#### Log Density, defineing the model"
   ]
  },
  {
   "cell_type": "code",
   "execution_count": 70,
   "metadata": {},
   "outputs": [
    {
     "data": {
      "text/plain": [
       "Array(-328281.94, dtype=float32)"
      ]
     },
     "execution_count": 70,
     "metadata": {},
     "output_type": "execute_result"
    }
   ],
   "source": [
    "\n",
    "from jax.scipy.stats import norm, uniform\n",
    "\n",
    "def logdensity_fn(theta):\n",
    "    \"\"\"\n",
    "    Log density function for a linear regression model with uniform priors.\n",
    "    \n",
    "    Args:\n",
    "    theta (array): An array of parameters [a, b, sigma].\n",
    "    \n",
    "    Returns:\n",
    "    float: The log probability density of the model given the data.\n",
    "    \"\"\"\n",
    "    # Extract parameters\n",
    "    a, b, sigma = theta['theta']\n",
    "    \n",
    "    # Prior distributions for a, b, and sigma\n",
    "    log_prior_a = norm.logpdf(a, 0, 10) # uniform prior on a between -100,100\n",
    "    log_prior_b = norm.logpdf(b, 0, 10)\n",
    "    log_prior_sigma = uniform.logpdf(sigma, 0.1, 100)\n",
    "    #print(log_prior_a, jnp.exp(log_prior_b), log_prior_sigma)\n",
    "    \n",
    "    # The likelihood of the data given the model\n",
    "    log_likelihood = jnp.sum(norm.logpdf(y, a * x + b, sigma))\n",
    "    \n",
    "    # Sum of log prior probabilities and the log likelihood\n",
    "    log_posterior = log_prior_a + log_prior_b + log_prior_sigma + log_likelihood\n",
    "    return log_posterior\n",
    "\n",
    "initial_position = {\"theta\": jnp.array([0., 0., 1.])}\n",
    "logdensity_fn(initial_position) # R Code -328281.9"
   ]
  },
  {
   "cell_type": "markdown",
   "metadata": {},
   "source": [
    "## Simple HMC Sampling"
   ]
  },
  {
   "cell_type": "markdown",
   "metadata": {},
   "source": [
    "### Defining the sampler"
   ]
  },
  {
   "cell_type": "markdown",
   "metadata": {},
   "source": [
    "Let's define a HMC sampler. We set the paramters of the sampler fixed. Note that in implementations like NUTS the step size and the number of steps are adapted during the warmup phase."
   ]
  },
  {
   "cell_type": "code",
   "execution_count": 71,
   "metadata": {},
   "outputs": [],
   "source": [
    "# HMC Sampler setup\n",
    "step_size = 1e-3\n",
    "num_integration_steps = 30\n",
    "inverse_mass_matrix = np.ones(3)\n",
    "\n",
    "# Define the HMC transition kernel\n",
    "hmc = blackjax.hmc(logdensity_fn, step_size, inverse_mass_matrix,num_integration_steps)"
   ]
  },
  {
   "cell_type": "markdown",
   "metadata": {},
   "source": [
    "When we start sampling more then just the initial position is required, also gradients need to be provied. "
   ]
  },
  {
   "cell_type": "code",
   "execution_count": 72,
   "metadata": {},
   "outputs": [
    {
     "data": {
      "text/plain": [
       "HMCState(position={'theta': Array([0., 0., 1.], dtype=float32)}, logdensity=Array(-328281.94, dtype=float32), logdensity_grad={'theta': Array([220684.,   4575., 656448.], dtype=float32)})"
      ]
     },
     "execution_count": 72,
     "metadata": {},
     "output_type": "execute_result"
    }
   ],
   "source": [
    "# Initialize the sampler's state\n",
    "initial_state = hmc.init(initial_position)\n",
    "initial_state"
   ]
  },
  {
   "cell_type": "code",
   "execution_count": 73,
   "metadata": {},
   "outputs": [],
   "source": [
    "hmc_kernel = jax.jit(hmc.step)\n",
    "\n",
    "def inference_loop(rng_key, kernel, initial_state, num_samples):\n",
    "    @jax.jit\n",
    "    def one_step(state, rng_key):\n",
    "        state, _ = kernel(rng_key, state)\n",
    "        return state, state\n",
    "\n",
    "    keys = jax.random.split(rng_key, num_samples)\n",
    "    _, states = jax.lax.scan(one_step, initial_state, keys)\n",
    "\n",
    "    return states"
   ]
  },
  {
   "cell_type": "code",
   "execution_count": 74,
   "metadata": {},
   "outputs": [
    {
     "name": "stdout",
     "output_type": "stream",
     "text": [
      "CPU times: user 368 ms, sys: 70 ms, total: 438 ms\n",
      "Wall time: 492 ms\n"
     ]
    }
   ],
   "source": [
    "%%time\n",
    "rng_key, sample_key = jax.random.split(key)\n",
    "states = inference_loop(sample_key, hmc_kernel, initial_state, 10_000)\n",
    "mcmc_samples = states.position\n",
    "states.logdensity\n",
    "samples_hmc = mcmc_samples['theta']"
   ]
  },
  {
   "cell_type": "markdown",
   "metadata": {},
   "source": [
    "### Nuts\n",
    "NUTS is a dynamic algorithm: the number of integration steps is determined at runtime. We still need to specify a step size and a mass matrix:"
   ]
  },
  {
   "cell_type": "code",
   "execution_count": 75,
   "metadata": {},
   "outputs": [
    {
     "data": {
      "text/plain": [
       "HMCState(position={'theta': Array([0., 0., 1.], dtype=float32)}, logdensity=Array(-328281.94, dtype=float32), logdensity_grad={'theta': Array([220684.,   4575., 656448.], dtype=float32)})"
      ]
     },
     "execution_count": 75,
     "metadata": {},
     "output_type": "execute_result"
    }
   ],
   "source": [
    "inverse_mass_matrix = np.ones(3)\n",
    "step_size = 1e-3\n",
    "logdensity = lambda x: logdensity_fn(**x)\n",
    "\n",
    "nuts = blackjax.nuts(logdensity_fn, step_size, inverse_mass_matrix)\n",
    "initial_state = nuts.init(initial_position)\n",
    "initial_state"
   ]
  },
  {
   "cell_type": "code",
   "execution_count": 76,
   "metadata": {},
   "outputs": [
    {
     "name": "stdout",
     "output_type": "stream",
     "text": [
      "CPU times: user 2.47 s, sys: 120 ms, total: 2.59 s\n",
      "Wall time: 2.84 s\n"
     ]
    }
   ],
   "source": [
    "%%time\n",
    "rng_key, sample_key = jax.random.split(rng_key)\n",
    "states = inference_loop(sample_key, nuts.step, initial_state, 4_000)\n",
    "\n",
    "mcmc_samples_nuts = states.position['theta']"
   ]
  },
  {
   "cell_type": "code",
   "execution_count": 77,
   "metadata": {},
   "outputs": [],
   "source": [
    "#states"
   ]
  },
  {
   "cell_type": "code",
   "execution_count": 78,
   "metadata": {},
   "outputs": [
    {
     "data": {
      "text/plain": [
       "Array([[1.1140761e-01, 3.1927535e-03, 1.3276500e+00],\n",
       "       [3.2669449e-01, 6.5558008e-03, 1.7751144e+00],\n",
       "       [3.5848251e-01, 6.5790946e-03, 1.8199159e+00],\n",
       "       ...,\n",
       "       [2.1679115e+00, 3.0706789e+01, 3.0034973e+01],\n",
       "       [2.1534982e+00, 2.9830521e+01, 3.0741049e+01],\n",
       "       [2.2407045e+00, 2.9684967e+01, 3.0741926e+01]], dtype=float32)"
      ]
     },
     "execution_count": 78,
     "metadata": {},
     "output_type": "execute_result"
    }
   ],
   "source": [
    "mcmc_samples_nuts"
   ]
  },
  {
   "cell_type": "markdown",
   "metadata": {},
   "source": [
    "### Finding the sampling parameters using Stan\n",
    "\n",
    "Specifying the step size and inverse mass matrix is cumbersome. We can use Stan’s adaptation to get reasonable values for them so we have, in practice, no parameter to specify."
   ]
  },
  {
   "cell_type": "code",
   "execution_count": 79,
   "metadata": {},
   "outputs": [
    {
     "name": "stdout",
     "output_type": "stream",
     "text": [
      "CPU times: user 1.16 s, sys: 107 ms, total: 1.27 s\n",
      "Wall time: 1.4 s\n"
     ]
    },
    {
     "data": {
      "text/plain": [
       "{'step_size': Array(0.32719117, dtype=float32, weak_type=True),\n",
       " 'inverse_mass_matrix': Array([5.1943649e-02, 1.0941637e+02, 2.3857704e+01], dtype=float32)}"
      ]
     },
     "execution_count": 79,
     "metadata": {},
     "output_type": "execute_result"
    }
   ],
   "source": [
    "%%time\n",
    "\n",
    "warmup = blackjax.window_adaptation(blackjax.nuts, logdensity_fn)\n",
    "rng_key, warmup_key, sample_key = jax.random.split(rng_key, 3)\n",
    "(state, parameters), _ = warmup.run(warmup_key, initial_position, num_steps=1000)\n",
    "parameters"
   ]
  },
  {
   "cell_type": "code",
   "execution_count": 80,
   "metadata": {},
   "outputs": [
    {
     "name": "stdout",
     "output_type": "stream",
     "text": [
      "CPU times: user 882 ms, sys: 84.8 ms, total: 967 ms\n",
      "Wall time: 1.05 s\n"
     ]
    }
   ],
   "source": [
    "%%time\n",
    "\n",
    "kernel = blackjax.nuts(logdensity_fn, **parameters).step\n",
    "states = inference_loop(sample_key, kernel, state, 4000)\n",
    "\n",
    "mcmc_samples = states.position\n",
    "nuts_stan_init = states.position['theta']"
   ]
  },
  {
   "cell_type": "code",
   "execution_count": 81,
   "metadata": {},
   "outputs": [
    {
     "data": {
      "text/plain": [
       "<matplotlib.legend.Legend at 0x2b55d8ca0>"
      ]
     },
     "execution_count": 81,
     "metadata": {},
     "output_type": "execute_result"
    },
    {
     "data": {
      "image/png": "[encoded data removed]",
      "text/plain": [
       "<Figure size 640x480 with 1 Axes>"
      ]
     },
     "metadata": {},
     "output_type": "display_data"
    }
   ],
   "source": [
    "from matplotlib import pyplot as plt\n",
    "plt.plot(mcmc_samples_nuts[:,0], alpha=0.5, label='NUTS')\n",
    "plt.plot(samples_hmc[:,0], label='HMC',alpha=0.5)\n",
    "plt.plot(nuts_stan_init[:,0], label='NUTS Stan')\n",
    "plt.xlabel('Iteration')\n",
    "plt.ylabel('a')\n",
    "plt.title('Traceplot of a for the different samplers in BlackJAX')\n",
    "plt.legend()"
   ]
  },
  {
   "cell_type": "code",
   "execution_count": 93,
   "metadata": {},
   "outputs": [
    {
     "data": {
      "text/html": [
       "<div>\n",
       "<style scoped>\n",
       "    .dataframe tbody tr th:only-of-type {\n",
       "        vertical-align: middle;\n",
       "    }\n",
       "\n",
       "    .dataframe tbody tr th {\n",
       "        vertical-align: top;\n",
       "    }\n",
       "\n",
       "    .dataframe thead th {\n",
       "        text-align: right;\n",
       "    }\n",
       "</style>\n",
       "<table border=\"1\" class=\"dataframe\">\n",
       "  <thead>\n",
       "    <tr style=\"text-align: right;\">\n",
       "      <th></th>\n",
       "      <th>HMC</th>\n",
       "      <th>NUTS</th>\n",
       "      <th>NUTS Stan</th>\n",
       "      <th>R Code Stan</th>\n",
       "    </tr>\n",
       "  </thead>\n",
       "  <tbody>\n",
       "    <tr>\n",
       "      <th>0</th>\n",
       "      <td>2.756658</td>\n",
       "      <td>2.371732</td>\n",
       "      <td>2.263189</td>\n",
       "      <td>2.26</td>\n",
       "    </tr>\n",
       "    <tr>\n",
       "      <th>1</th>\n",
       "      <td>2.215259</td>\n",
       "      <td>21.575661</td>\n",
       "      <td>27.484911</td>\n",
       "      <td>27.42</td>\n",
       "    </tr>\n",
       "    <tr>\n",
       "      <th>2</th>\n",
       "      <td>24.947882</td>\n",
       "      <td>28.749268</td>\n",
       "      <td>29.151072</td>\n",
       "      <td>29.08</td>\n",
       "    </tr>\n",
       "  </tbody>\n",
       "</table>\n",
       "</div>"
      ],
      "text/plain": [
       "         HMC       NUTS  NUTS Stan  R Code Stan\n",
       "0   2.756658   2.371732   2.263189         2.26\n",
       "1   2.215259  21.575661  27.484911        27.42\n",
       "2  24.947882  28.749268  29.151072        29.08"
      ]
     },
     "execution_count": 93,
     "metadata": {},
     "output_type": "execute_result"
    }
   ],
   "source": [
    "nuts_stan_init.mean(axis=0), np.median(nuts_stan_init, axis=0) #\n",
    "samples_hmc.mean(axis=0), np.median(samples_hmc, axis=0) #\n",
    "mcmc_samples_nuts.mean(axis=0), np.median(mcmc_samples_nuts, axis=0) #\n",
    "\n",
    "# Make table\n",
    "import pandas as pd\n",
    "df = pd.DataFrame(\n",
    "    {'HMC': samples_hmc.mean(axis=0), \n",
    "     'NUTS': mcmc_samples_nuts.mean(axis=0), \n",
    "     'NUTS Stan': nuts_stan_init.mean(axis=0),\n",
    "     'R Code Stan': (2.26, 27.42, 29.08)})\n",
    "df"
   ]
  },
  {
   "cell_type": "markdown",
   "metadata": {},
   "source": [
    "#### Calculation of the effective sample sizes with arviz\n",
    "\n",
    "Unfortunatly the arviz does take the output of the blackjax sampler. We need to convert the output to a format that arviz can handle. "
   ]
  },
  {
   "cell_type": "code",
   "execution_count": 82,
   "metadata": {},
   "outputs": [],
   "source": [
    "import numpy as np\n",
    "import arviz as az\n",
    "\n",
    "def convert_samples_to_dataset(samples):\n",
    "    \"\"\"\n",
    "    Convert samples to an ArviZ InferenceData object.\n",
    "    The samples must be in a 3D array with dimensions (chains, draws, parameters).\n",
    "    \"\"\"\n",
    "    # Ensure the samples are in a 3D array\n",
    "    if samples.ndim == 2:\n",
    "        samples = samples[np.newaxis, :]\n",
    "\n",
    "    # Convert the samples to an array and then to an ArviZ InferenceData object\n",
    "    samples = np.array(samples)\n",
    "    d_az = az.convert_to_dataset(samples)\n",
    "\n",
    "    return d_az"
   ]
  },
  {
   "cell_type": "code",
   "execution_count": 83,
   "metadata": {},
   "outputs": [
    {
     "data": {
      "text/plain": [
       "'ESS'"
      ]
     },
     "metadata": {},
     "output_type": "display_data"
    },
    {
     "data": {
      "text/html": [
       "<div>\n",
       "<style scoped>\n",
       "    .dataframe tbody tr th:only-of-type {\n",
       "        vertical-align: middle;\n",
       "    }\n",
       "\n",
       "    .dataframe tbody tr th {\n",
       "        vertical-align: top;\n",
       "    }\n",
       "\n",
       "    .dataframe thead th {\n",
       "        text-align: right;\n",
       "    }\n",
       "</style>\n",
       "<table border=\"1\" class=\"dataframe\">\n",
       "  <thead>\n",
       "    <tr style=\"text-align: right;\">\n",
       "      <th></th>\n",
       "      <th>HMC</th>\n",
       "      <th>NUTS</th>\n",
       "      <th>NUTS Stan</th>\n",
       "    </tr>\n",
       "    <tr>\n",
       "      <th>Parameter</th>\n",
       "      <th></th>\n",
       "      <th></th>\n",
       "      <th></th>\n",
       "    </tr>\n",
       "  </thead>\n",
       "  <tbody>\n",
       "    <tr>\n",
       "      <th>0</th>\n",
       "      <td>182.793362</td>\n",
       "      <td>19.516408</td>\n",
       "      <td>1018.500831</td>\n",
       "    </tr>\n",
       "    <tr>\n",
       "      <th>1</th>\n",
       "      <td>5.042875</td>\n",
       "      <td>10.995289</td>\n",
       "      <td>966.788426</td>\n",
       "    </tr>\n",
       "    <tr>\n",
       "      <th>2</th>\n",
       "      <td>1.832990</td>\n",
       "      <td>34.089027</td>\n",
       "      <td>1218.398209</td>\n",
       "    </tr>\n",
       "  </tbody>\n",
       "</table>\n",
       "</div>"
      ],
      "text/plain": [
       "                  HMC       NUTS    NUTS Stan\n",
       "Parameter                                    \n",
       "0          182.793362  19.516408  1018.500831\n",
       "1            5.042875  10.995289   966.788426\n",
       "2            1.832990  34.089027  1218.398209"
      ]
     },
     "metadata": {},
     "output_type": "display_data"
    }
   ],
   "source": [
    "import numpy as np\n",
    "import pandas as pd\n",
    "import arviz as az\n",
    "\n",
    "def calculate_ess(samples, sampler_name):\n",
    "    ess_result = az.ess(convert_samples_to_dataset(samples))\n",
    "     # Properly extract the numerical ESS values from the result\n",
    "    ess_values = ess_result.to_dataframe().squeeze().values\n",
    "    ess_series = pd.Series(ess_values, name=sampler_name)\n",
    "    return ess_series\n",
    "\n",
    "# Calculating ESS for each sampler\n",
    "ess_hmc = calculate_ess(samples_hmc, 'HMC')\n",
    "ess_nuts = calculate_ess(mcmc_samples_nuts, 'NUTS')\n",
    "ess_nuts_stan = calculate_ess(nuts_stan_init, 'NUTS Stan')\n",
    "\n",
    "# Combine the results into a single DataFrame\n",
    "ess_df = pd.DataFrame({'HMC': ess_hmc, 'NUTS': ess_nuts, 'NUTS Stan': ess_nuts_stan})\n",
    "ess_df.index.name = 'Parameter'\n",
    "display('ESS', ess_df)\n"
   ]
  },
  {
   "cell_type": "code",
   "execution_count": 94,
   "metadata": {},
   "outputs": [
    {
     "data": {
      "text/plain": [
       "array([[<Axes: title={'center': 'x\\n0'}>,\n",
       "        <Axes: title={'center': 'x\\n0'}>],\n",
       "       [<Axes: title={'center': 'x\\n1'}>,\n",
       "        <Axes: title={'center': 'x\\n1'}>],\n",
       "       [<Axes: title={'center': 'x\\n2'}>,\n",
       "        <Axes: title={'center': 'x\\n2'}>]], dtype=object)"
      ]
     },
     "execution_count": 94,
     "metadata": {},
     "output_type": "execute_result"
    },
    {
     "data": {
      "image/png": "[encoded data removed]",
      "text/plain": [
       "<Figure size 1200x600 with 6 Axes>"
      ]
     },
     "metadata": {},
     "output_type": "display_data"
    }
   ],
   "source": [
    "mcmc_sample = convert_samples_to_dataset(samples_hmc)#convert_samples_to_dataset(nuts_stan_init)\n",
    "az.plot_trace(mcmc_sample, compact=False)"
   ]
  },
  {
   "cell_type": "code",
   "execution_count": 85,
   "metadata": {},
   "outputs": [
    {
     "data": {
      "text/plain": [
       "(Array([ 2.2631886, 27.484911 , 29.151072 ], dtype=float32),\n",
       " array([ 2.2569969, 27.736748 , 28.683403 ], dtype=float32))"
      ]
     },
     "execution_count": 85,
     "metadata": {},
     "output_type": "execute_result"
    }
   ],
   "source": []
  },
  {
   "cell_type": "code",
   "execution_count": null,
   "metadata": {},
   "outputs": [],
   "source": []
  }
 ],
 "metadata": {
  "kernelspec": {
   "display_name": "mldl_htwg",
   "language": "python",
   "name": "python3"
  },
  "language_info": {
   "codemirror_mode": {
    "name": "ipython",
    "version": 3
   },
   "file_extension": ".py",
   "mimetype": "text/x-python",
   "name": "python",
   "nbconvert_exporter": "python",
   "pygments_lexer": "ipython3",
   "version": "3.10.13"
  }
 },
 "nbformat": 4,
 "nbformat_minor": 2
}
