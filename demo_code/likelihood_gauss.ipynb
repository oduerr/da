{
  "nbformat": 4,
  "nbformat_minor": 0,
  "metadata": {
    "colab": {
      "provenance": []
    },
    "kernelspec": {
      "name": "python3",
      "display_name": "Python 3"
    },
    "language_info": {
      "name": "python"
    }
  },
  "cells": [
    {
      "cell_type": "code",
      "execution_count": null,
      "metadata": {
        "id": "YNjCqggYyNVs"
      },
      "outputs": [],
      "source": [
        "import numpy as np\n",
        "import scipy.stats as stats\n",
        "import matplotlib.pyplot as plt\n",
        "from ipywidgets import interact, widgets\n",
        "\n",
        "ys = np.array([-0.033, -0.76, 2.02, 1.13, 0.65, 0.49, 0.76, 0.40, 0.10, 0.61])\n",
        "\n",
        "# Likelihood for all data points\n",
        "def likelihood(ys, mu, sigma):\n",
        "    lik = 1\n",
        "    for y in ys:\n",
        "        lik *= stats.norm.pdf(y, loc=mu, scale=sigma)\n",
        "    return lik\n",
        "\n",
        "def plot_likelihood(mu, sigma):\n",
        "    yvals = np.arange(-5, 5, 0.05)\n",
        "    lik = likelihood(ys, mu, sigma)\n",
        "    plt.plot(yvals, stats.norm.pdf(yvals, loc=mu, scale=sigma), label='Normal Distribution')\n",
        "    plt.scatter(ys, np.zeros_like(ys), label='Data Points', c='red', s=50)\n",
        "    plt.xlabel('Data')\n",
        "    plt.ylabel('')\n",
        "    plt.title(f'Likelihood = {lik}')\n",
        "    plt.xlim(-2, 2)\n",
        "    plt.legend()\n",
        "    plt.show()\n",
        "\n",
        "interact(plot_likelihood, mu=(-5, 5, 0.01), sigma=(0, 5, 0.01))\n",
        "\n",
        "print(np.mean(ys))\n",
        "print(np.std(ys))"
      ]
    }
  ]
}